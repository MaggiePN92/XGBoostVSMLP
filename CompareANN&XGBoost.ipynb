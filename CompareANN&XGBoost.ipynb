{
  "nbformat": 4,
  "nbformat_minor": 0,
  "metadata": {
    "colab": {
      "name": "CompareANN&XGBoost.ipynb",
      "provenance": [],
      "collapsed_sections": []
    },
    "kernelspec": {
      "name": "python3",
      "display_name": "Python 3"
    },
    "accelerator": "GPU"
  },
  "cells": [
    {
      "cell_type": "markdown",
      "metadata": {
        "id": "Jv4vvLzhlHSI"
      },
      "source": [
        "#Comparing XGBoost with Feed Forward Neural Network\n",
        "In this notebook I compare the XGBoost (xtreme gradient boosting) algorithm with a neural network made using PyTorch. The models are compared on a fraud detection task with a highly unbalanced dataset. The models are compared on basis of the reciever operating curve (ROC) and the area under its curve. \n",
        "\n",
        "<h3>What metric to use</h3>\n",
        "We will be using the reciever operating characteristic (ROC) to determine the optimal model. The ROC shows the relation of true positives and false positives when adjusting the decision boundary. The decision boundary is what probability the model must predict to specify a sample as a positive sample. A true positive is a sample predicted to be positive (in this case fraudulent) when it truly is. A false positive is a sample predicted to be positive when it's truly negative. The ROC can be summarized in one number called ROC area under the curve (ROCAUC). A perfect ROCAUC is 1. This is when there are no false positive or false negatives. <br>\n",
        "<img src=\"https://scikit-learn.org/0.15/_images/plot_roc_0011.png\" alt=\"Picture of ROC\" width=\"400\" height=\"300\">\n",
        "<br>\n",
        "We are using the ROC because the cost of letting frauds go undetected is great. Also, at the same time, the cost of checking if a transaction is fraudulent or not is low. This means that you would like a model that has a high true positive rate. \n"
      ]
    },
    {
      "cell_type": "markdown",
      "metadata": {
        "id": "og01l91IxODJ"
      },
      "source": [
        "https://www.kaggle.com/mlg-ulb/creditcardfraud"
      ]
    },
    {
      "cell_type": "code",
      "metadata": {
        "id": "RQ5TFP9MlEfF"
      },
      "source": [
        "#Importing necessary libraries\n",
        "import pandas as pd\n",
        "import numpy as np\n",
        "\n",
        "from google.colab import drive\n",
        "from collections import Counter\n",
        "import time\n",
        "\n",
        "\n",
        "import matplotlib.pyplot as plt\n",
        "import seaborn as sns\n",
        "import matplotlib.colors as colors\n",
        "\n",
        "import torch\n",
        "import torch.nn as nn\n",
        "import torch.optim as optim\n",
        "from torch.utils.data import Dataset, DataLoader\n",
        "\n",
        "from sklearn.metrics import roc_curve, auc, roc_auc_score,confusion_matrix, classification_report\n",
        "from sklearn.model_selection import train_test_split\n",
        "from sklearn.preprocessing import StandardScaler\n",
        "from sklearn.model_selection import StratifiedKFold\n",
        "from sklearn.model_selection import GridSearchCV\n",
        "from sklearn.model_selection import StratifiedKFold\n",
        "from sklearn.model_selection import RandomizedSearchCV, GridSearchCV\n",
        "from sklearn.manifold import TSNE\n",
        "\n",
        "from xgboost import XGBClassifier"
      ],
      "execution_count": null,
      "outputs": []
    },
    {
      "cell_type": "markdown",
      "metadata": {
        "id": "CxZRJZABlFoW"
      },
      "source": [
        "#Why Google colab?\n",
        "When machine learning models are trained the computer is doing calcualtions on tensors (3D vectors). When you're working with tensors it's a big advantage using GPU instead of the CPU. Using GPU will result in the model being trained much faster. The reason for this is that the GPU specializes in computation with tensors. The main advantage with Google Colab (and perhaps the only one) is that you with ease can set the runtime type to be GPU. \n",
        "\n",
        "<br>\n",
        "\n",
        "For more information, see: \n",
        "<ul>\n",
        "  <li href=https://www.youtube.com/watch?v=_cyVDoyI6NE> https://www.youtube.com/watch?v=_cyVDoyI6NE </ul>"
      ]
    },
    {
      "cell_type": "code",
      "metadata": {
        "id": "PnfmNhyYlZYM",
        "outputId": "a5214525-b113-4132-9685-7b386745b1da",
        "colab": {
          "base_uri": "https://localhost:8080/"
        }
      },
      "source": [
        "#Mounting google drive\n",
        "#I'm working in google colab due to ease of using GPU for performance boost\n",
        "drive.mount('/content/drive')\n",
        "#CONTENT_DRIVE = './content/drive'"
      ],
      "execution_count": null,
      "outputs": [
        {
          "output_type": "stream",
          "text": [
            "Mounted at /content/drive\n"
          ],
          "name": "stdout"
        }
      ]
    },
    {
      "cell_type": "markdown",
      "metadata": {
        "id": "RvvSO4adlnE0"
      },
      "source": [
        "#About the data\n",
        "The data is collected from a Kaggle competition, see https://www.kaggle.com/mlg-ulb/creditcardfraud. The dataset consists of 248 807 non-fraudulent rows and 492 fraudulet rows. This means that only 0.172% of the data is labeled fraudulent. \n",
        "<ul>\n",
        "<li>There are 30 features and two classes (fraud/non-fraud.)\n",
        "<li>The features named V1,V2,..,V28 are components from PCA. The PCA is done to anonymize the data.\n",
        "<li>Time shows seconds elapsed from first transaction in dataset to current transaction.\n",
        "<li>Amount is the size of the transaction\n",
        "</ul>"
      ]
    },
    {
      "cell_type": "code",
      "metadata": {
        "id": "Om7X_e96lZ_F"
      },
      "source": [
        "#importing data and making a dataframe\n",
        "PATH = \"/content/drive/My Drive/fraud-detection/\"\n",
        "file_name = \"creditcard.csv\"\n",
        "df = pd.read_csv(PATH+file_name)\n",
        "#renaming Class to label \n",
        "df.rename(columns = {\"Class\":\"label\"}, inplace = True)"
      ],
      "execution_count": null,
      "outputs": []
    },
    {
      "cell_type": "code",
      "metadata": {
        "id": "Mi4SzxKLlai9",
        "outputId": "30dca400-aa21-401c-c14d-7eaf067a8b50",
        "colab": {
          "base_uri": "https://localhost:8080/",
          "height": 439
        }
      },
      "source": [
        "df"
      ],
      "execution_count": null,
      "outputs": [
        {
          "output_type": "execute_result",
          "data": {
            "text/html": [
              "<div>\n",
              "<style scoped>\n",
              "    .dataframe tbody tr th:only-of-type {\n",
              "        vertical-align: middle;\n",
              "    }\n",
              "\n",
              "    .dataframe tbody tr th {\n",
              "        vertical-align: top;\n",
              "    }\n",
              "\n",
              "    .dataframe thead th {\n",
              "        text-align: right;\n",
              "    }\n",
              "</style>\n",
              "<table border=\"1\" class=\"dataframe\">\n",
              "  <thead>\n",
              "    <tr style=\"text-align: right;\">\n",
              "      <th></th>\n",
              "      <th>Time</th>\n",
              "      <th>V1</th>\n",
              "      <th>V2</th>\n",
              "      <th>V3</th>\n",
              "      <th>V4</th>\n",
              "      <th>V5</th>\n",
              "      <th>V6</th>\n",
              "      <th>V7</th>\n",
              "      <th>V8</th>\n",
              "      <th>V9</th>\n",
              "      <th>V10</th>\n",
              "      <th>V11</th>\n",
              "      <th>V12</th>\n",
              "      <th>V13</th>\n",
              "      <th>V14</th>\n",
              "      <th>V15</th>\n",
              "      <th>V16</th>\n",
              "      <th>V17</th>\n",
              "      <th>V18</th>\n",
              "      <th>V19</th>\n",
              "      <th>V20</th>\n",
              "      <th>V21</th>\n",
              "      <th>V22</th>\n",
              "      <th>V23</th>\n",
              "      <th>V24</th>\n",
              "      <th>V25</th>\n",
              "      <th>V26</th>\n",
              "      <th>V27</th>\n",
              "      <th>V28</th>\n",
              "      <th>Amount</th>\n",
              "      <th>label</th>\n",
              "    </tr>\n",
              "  </thead>\n",
              "  <tbody>\n",
              "    <tr>\n",
              "      <th>0</th>\n",
              "      <td>0.0</td>\n",
              "      <td>-1.359807</td>\n",
              "      <td>-0.072781</td>\n",
              "      <td>2.536347</td>\n",
              "      <td>1.378155</td>\n",
              "      <td>-0.338321</td>\n",
              "      <td>0.462388</td>\n",
              "      <td>0.239599</td>\n",
              "      <td>0.098698</td>\n",
              "      <td>0.363787</td>\n",
              "      <td>0.090794</td>\n",
              "      <td>-0.551600</td>\n",
              "      <td>-0.617801</td>\n",
              "      <td>-0.991390</td>\n",
              "      <td>-0.311169</td>\n",
              "      <td>1.468177</td>\n",
              "      <td>-0.470401</td>\n",
              "      <td>0.207971</td>\n",
              "      <td>0.025791</td>\n",
              "      <td>0.403993</td>\n",
              "      <td>0.251412</td>\n",
              "      <td>-0.018307</td>\n",
              "      <td>0.277838</td>\n",
              "      <td>-0.110474</td>\n",
              "      <td>0.066928</td>\n",
              "      <td>0.128539</td>\n",
              "      <td>-0.189115</td>\n",
              "      <td>0.133558</td>\n",
              "      <td>-0.021053</td>\n",
              "      <td>149.62</td>\n",
              "      <td>0</td>\n",
              "    </tr>\n",
              "    <tr>\n",
              "      <th>1</th>\n",
              "      <td>0.0</td>\n",
              "      <td>1.191857</td>\n",
              "      <td>0.266151</td>\n",
              "      <td>0.166480</td>\n",
              "      <td>0.448154</td>\n",
              "      <td>0.060018</td>\n",
              "      <td>-0.082361</td>\n",
              "      <td>-0.078803</td>\n",
              "      <td>0.085102</td>\n",
              "      <td>-0.255425</td>\n",
              "      <td>-0.166974</td>\n",
              "      <td>1.612727</td>\n",
              "      <td>1.065235</td>\n",
              "      <td>0.489095</td>\n",
              "      <td>-0.143772</td>\n",
              "      <td>0.635558</td>\n",
              "      <td>0.463917</td>\n",
              "      <td>-0.114805</td>\n",
              "      <td>-0.183361</td>\n",
              "      <td>-0.145783</td>\n",
              "      <td>-0.069083</td>\n",
              "      <td>-0.225775</td>\n",
              "      <td>-0.638672</td>\n",
              "      <td>0.101288</td>\n",
              "      <td>-0.339846</td>\n",
              "      <td>0.167170</td>\n",
              "      <td>0.125895</td>\n",
              "      <td>-0.008983</td>\n",
              "      <td>0.014724</td>\n",
              "      <td>2.69</td>\n",
              "      <td>0</td>\n",
              "    </tr>\n",
              "    <tr>\n",
              "      <th>2</th>\n",
              "      <td>1.0</td>\n",
              "      <td>-1.358354</td>\n",
              "      <td>-1.340163</td>\n",
              "      <td>1.773209</td>\n",
              "      <td>0.379780</td>\n",
              "      <td>-0.503198</td>\n",
              "      <td>1.800499</td>\n",
              "      <td>0.791461</td>\n",
              "      <td>0.247676</td>\n",
              "      <td>-1.514654</td>\n",
              "      <td>0.207643</td>\n",
              "      <td>0.624501</td>\n",
              "      <td>0.066084</td>\n",
              "      <td>0.717293</td>\n",
              "      <td>-0.165946</td>\n",
              "      <td>2.345865</td>\n",
              "      <td>-2.890083</td>\n",
              "      <td>1.109969</td>\n",
              "      <td>-0.121359</td>\n",
              "      <td>-2.261857</td>\n",
              "      <td>0.524980</td>\n",
              "      <td>0.247998</td>\n",
              "      <td>0.771679</td>\n",
              "      <td>0.909412</td>\n",
              "      <td>-0.689281</td>\n",
              "      <td>-0.327642</td>\n",
              "      <td>-0.139097</td>\n",
              "      <td>-0.055353</td>\n",
              "      <td>-0.059752</td>\n",
              "      <td>378.66</td>\n",
              "      <td>0</td>\n",
              "    </tr>\n",
              "    <tr>\n",
              "      <th>3</th>\n",
              "      <td>1.0</td>\n",
              "      <td>-0.966272</td>\n",
              "      <td>-0.185226</td>\n",
              "      <td>1.792993</td>\n",
              "      <td>-0.863291</td>\n",
              "      <td>-0.010309</td>\n",
              "      <td>1.247203</td>\n",
              "      <td>0.237609</td>\n",
              "      <td>0.377436</td>\n",
              "      <td>-1.387024</td>\n",
              "      <td>-0.054952</td>\n",
              "      <td>-0.226487</td>\n",
              "      <td>0.178228</td>\n",
              "      <td>0.507757</td>\n",
              "      <td>-0.287924</td>\n",
              "      <td>-0.631418</td>\n",
              "      <td>-1.059647</td>\n",
              "      <td>-0.684093</td>\n",
              "      <td>1.965775</td>\n",
              "      <td>-1.232622</td>\n",
              "      <td>-0.208038</td>\n",
              "      <td>-0.108300</td>\n",
              "      <td>0.005274</td>\n",
              "      <td>-0.190321</td>\n",
              "      <td>-1.175575</td>\n",
              "      <td>0.647376</td>\n",
              "      <td>-0.221929</td>\n",
              "      <td>0.062723</td>\n",
              "      <td>0.061458</td>\n",
              "      <td>123.50</td>\n",
              "      <td>0</td>\n",
              "    </tr>\n",
              "    <tr>\n",
              "      <th>4</th>\n",
              "      <td>2.0</td>\n",
              "      <td>-1.158233</td>\n",
              "      <td>0.877737</td>\n",
              "      <td>1.548718</td>\n",
              "      <td>0.403034</td>\n",
              "      <td>-0.407193</td>\n",
              "      <td>0.095921</td>\n",
              "      <td>0.592941</td>\n",
              "      <td>-0.270533</td>\n",
              "      <td>0.817739</td>\n",
              "      <td>0.753074</td>\n",
              "      <td>-0.822843</td>\n",
              "      <td>0.538196</td>\n",
              "      <td>1.345852</td>\n",
              "      <td>-1.119670</td>\n",
              "      <td>0.175121</td>\n",
              "      <td>-0.451449</td>\n",
              "      <td>-0.237033</td>\n",
              "      <td>-0.038195</td>\n",
              "      <td>0.803487</td>\n",
              "      <td>0.408542</td>\n",
              "      <td>-0.009431</td>\n",
              "      <td>0.798278</td>\n",
              "      <td>-0.137458</td>\n",
              "      <td>0.141267</td>\n",
              "      <td>-0.206010</td>\n",
              "      <td>0.502292</td>\n",
              "      <td>0.219422</td>\n",
              "      <td>0.215153</td>\n",
              "      <td>69.99</td>\n",
              "      <td>0</td>\n",
              "    </tr>\n",
              "    <tr>\n",
              "      <th>...</th>\n",
              "      <td>...</td>\n",
              "      <td>...</td>\n",
              "      <td>...</td>\n",
              "      <td>...</td>\n",
              "      <td>...</td>\n",
              "      <td>...</td>\n",
              "      <td>...</td>\n",
              "      <td>...</td>\n",
              "      <td>...</td>\n",
              "      <td>...</td>\n",
              "      <td>...</td>\n",
              "      <td>...</td>\n",
              "      <td>...</td>\n",
              "      <td>...</td>\n",
              "      <td>...</td>\n",
              "      <td>...</td>\n",
              "      <td>...</td>\n",
              "      <td>...</td>\n",
              "      <td>...</td>\n",
              "      <td>...</td>\n",
              "      <td>...</td>\n",
              "      <td>...</td>\n",
              "      <td>...</td>\n",
              "      <td>...</td>\n",
              "      <td>...</td>\n",
              "      <td>...</td>\n",
              "      <td>...</td>\n",
              "      <td>...</td>\n",
              "      <td>...</td>\n",
              "      <td>...</td>\n",
              "      <td>...</td>\n",
              "    </tr>\n",
              "    <tr>\n",
              "      <th>284802</th>\n",
              "      <td>172786.0</td>\n",
              "      <td>-11.881118</td>\n",
              "      <td>10.071785</td>\n",
              "      <td>-9.834783</td>\n",
              "      <td>-2.066656</td>\n",
              "      <td>-5.364473</td>\n",
              "      <td>-2.606837</td>\n",
              "      <td>-4.918215</td>\n",
              "      <td>7.305334</td>\n",
              "      <td>1.914428</td>\n",
              "      <td>4.356170</td>\n",
              "      <td>-1.593105</td>\n",
              "      <td>2.711941</td>\n",
              "      <td>-0.689256</td>\n",
              "      <td>4.626942</td>\n",
              "      <td>-0.924459</td>\n",
              "      <td>1.107641</td>\n",
              "      <td>1.991691</td>\n",
              "      <td>0.510632</td>\n",
              "      <td>-0.682920</td>\n",
              "      <td>1.475829</td>\n",
              "      <td>0.213454</td>\n",
              "      <td>0.111864</td>\n",
              "      <td>1.014480</td>\n",
              "      <td>-0.509348</td>\n",
              "      <td>1.436807</td>\n",
              "      <td>0.250034</td>\n",
              "      <td>0.943651</td>\n",
              "      <td>0.823731</td>\n",
              "      <td>0.77</td>\n",
              "      <td>0</td>\n",
              "    </tr>\n",
              "    <tr>\n",
              "      <th>284803</th>\n",
              "      <td>172787.0</td>\n",
              "      <td>-0.732789</td>\n",
              "      <td>-0.055080</td>\n",
              "      <td>2.035030</td>\n",
              "      <td>-0.738589</td>\n",
              "      <td>0.868229</td>\n",
              "      <td>1.058415</td>\n",
              "      <td>0.024330</td>\n",
              "      <td>0.294869</td>\n",
              "      <td>0.584800</td>\n",
              "      <td>-0.975926</td>\n",
              "      <td>-0.150189</td>\n",
              "      <td>0.915802</td>\n",
              "      <td>1.214756</td>\n",
              "      <td>-0.675143</td>\n",
              "      <td>1.164931</td>\n",
              "      <td>-0.711757</td>\n",
              "      <td>-0.025693</td>\n",
              "      <td>-1.221179</td>\n",
              "      <td>-1.545556</td>\n",
              "      <td>0.059616</td>\n",
              "      <td>0.214205</td>\n",
              "      <td>0.924384</td>\n",
              "      <td>0.012463</td>\n",
              "      <td>-1.016226</td>\n",
              "      <td>-0.606624</td>\n",
              "      <td>-0.395255</td>\n",
              "      <td>0.068472</td>\n",
              "      <td>-0.053527</td>\n",
              "      <td>24.79</td>\n",
              "      <td>0</td>\n",
              "    </tr>\n",
              "    <tr>\n",
              "      <th>284804</th>\n",
              "      <td>172788.0</td>\n",
              "      <td>1.919565</td>\n",
              "      <td>-0.301254</td>\n",
              "      <td>-3.249640</td>\n",
              "      <td>-0.557828</td>\n",
              "      <td>2.630515</td>\n",
              "      <td>3.031260</td>\n",
              "      <td>-0.296827</td>\n",
              "      <td>0.708417</td>\n",
              "      <td>0.432454</td>\n",
              "      <td>-0.484782</td>\n",
              "      <td>0.411614</td>\n",
              "      <td>0.063119</td>\n",
              "      <td>-0.183699</td>\n",
              "      <td>-0.510602</td>\n",
              "      <td>1.329284</td>\n",
              "      <td>0.140716</td>\n",
              "      <td>0.313502</td>\n",
              "      <td>0.395652</td>\n",
              "      <td>-0.577252</td>\n",
              "      <td>0.001396</td>\n",
              "      <td>0.232045</td>\n",
              "      <td>0.578229</td>\n",
              "      <td>-0.037501</td>\n",
              "      <td>0.640134</td>\n",
              "      <td>0.265745</td>\n",
              "      <td>-0.087371</td>\n",
              "      <td>0.004455</td>\n",
              "      <td>-0.026561</td>\n",
              "      <td>67.88</td>\n",
              "      <td>0</td>\n",
              "    </tr>\n",
              "    <tr>\n",
              "      <th>284805</th>\n",
              "      <td>172788.0</td>\n",
              "      <td>-0.240440</td>\n",
              "      <td>0.530483</td>\n",
              "      <td>0.702510</td>\n",
              "      <td>0.689799</td>\n",
              "      <td>-0.377961</td>\n",
              "      <td>0.623708</td>\n",
              "      <td>-0.686180</td>\n",
              "      <td>0.679145</td>\n",
              "      <td>0.392087</td>\n",
              "      <td>-0.399126</td>\n",
              "      <td>-1.933849</td>\n",
              "      <td>-0.962886</td>\n",
              "      <td>-1.042082</td>\n",
              "      <td>0.449624</td>\n",
              "      <td>1.962563</td>\n",
              "      <td>-0.608577</td>\n",
              "      <td>0.509928</td>\n",
              "      <td>1.113981</td>\n",
              "      <td>2.897849</td>\n",
              "      <td>0.127434</td>\n",
              "      <td>0.265245</td>\n",
              "      <td>0.800049</td>\n",
              "      <td>-0.163298</td>\n",
              "      <td>0.123205</td>\n",
              "      <td>-0.569159</td>\n",
              "      <td>0.546668</td>\n",
              "      <td>0.108821</td>\n",
              "      <td>0.104533</td>\n",
              "      <td>10.00</td>\n",
              "      <td>0</td>\n",
              "    </tr>\n",
              "    <tr>\n",
              "      <th>284806</th>\n",
              "      <td>172792.0</td>\n",
              "      <td>-0.533413</td>\n",
              "      <td>-0.189733</td>\n",
              "      <td>0.703337</td>\n",
              "      <td>-0.506271</td>\n",
              "      <td>-0.012546</td>\n",
              "      <td>-0.649617</td>\n",
              "      <td>1.577006</td>\n",
              "      <td>-0.414650</td>\n",
              "      <td>0.486180</td>\n",
              "      <td>-0.915427</td>\n",
              "      <td>-1.040458</td>\n",
              "      <td>-0.031513</td>\n",
              "      <td>-0.188093</td>\n",
              "      <td>-0.084316</td>\n",
              "      <td>0.041333</td>\n",
              "      <td>-0.302620</td>\n",
              "      <td>-0.660377</td>\n",
              "      <td>0.167430</td>\n",
              "      <td>-0.256117</td>\n",
              "      <td>0.382948</td>\n",
              "      <td>0.261057</td>\n",
              "      <td>0.643078</td>\n",
              "      <td>0.376777</td>\n",
              "      <td>0.008797</td>\n",
              "      <td>-0.473649</td>\n",
              "      <td>-0.818267</td>\n",
              "      <td>-0.002415</td>\n",
              "      <td>0.013649</td>\n",
              "      <td>217.00</td>\n",
              "      <td>0</td>\n",
              "    </tr>\n",
              "  </tbody>\n",
              "</table>\n",
              "<p>284807 rows × 31 columns</p>\n",
              "</div>"
            ],
            "text/plain": [
              "            Time         V1         V2  ...       V28  Amount  label\n",
              "0            0.0  -1.359807  -0.072781  ... -0.021053  149.62      0\n",
              "1            0.0   1.191857   0.266151  ...  0.014724    2.69      0\n",
              "2            1.0  -1.358354  -1.340163  ... -0.059752  378.66      0\n",
              "3            1.0  -0.966272  -0.185226  ...  0.061458  123.50      0\n",
              "4            2.0  -1.158233   0.877737  ...  0.215153   69.99      0\n",
              "...          ...        ...        ...  ...       ...     ...    ...\n",
              "284802  172786.0 -11.881118  10.071785  ...  0.823731    0.77      0\n",
              "284803  172787.0  -0.732789  -0.055080  ... -0.053527   24.79      0\n",
              "284804  172788.0   1.919565  -0.301254  ... -0.026561   67.88      0\n",
              "284805  172788.0  -0.240440   0.530483  ...  0.104533   10.00      0\n",
              "284806  172792.0  -0.533413  -0.189733  ...  0.013649  217.00      0\n",
              "\n",
              "[284807 rows x 31 columns]"
            ]
          },
          "metadata": {
            "tags": []
          },
          "execution_count": 4
        }
      ]
    },
    {
      "cell_type": "code",
      "metadata": {
        "id": "Q2XlPtQplas8",
        "outputId": "b9885643-f4f2-4d1e-aeb3-8050420fa072",
        "colab": {
          "base_uri": "https://localhost:8080/"
        }
      },
      "source": [
        "# The labels are heavily skewed - descriptives\n",
        "print('Non fraudulent transactions ', round(df['label'].value_counts()[0]/len(df) * 100,2), '% of the dataset.',sep=\"\")\n",
        "print('Fraudulent transactions ', round(df['label'].value_counts()[1]/len(df) * 100,2), '% of the dataset.',sep=\"\")\n",
        "\n",
        "counter = Counter(df.iloc[:,-1])\n",
        "print(\"\")\n",
        "print(\"# non-fraudulent transactions: \"+str(counter[0])+\".\",sep=\"\")\n",
        "print(\"# fraudulent transactions: \"+str(counter[1])+\".\",sep=\"\")\n",
        "print(\"# of observations: \"+str(len(df.iloc[:,-1]))+\".\",sep=\"\")"
      ],
      "execution_count": null,
      "outputs": [
        {
          "output_type": "stream",
          "text": [
            "Non fraudulent transactions 99.83% of the dataset.\n",
            "Fraudulent transactions 0.17% of the dataset.\n",
            "\n",
            "# non-fraudulent transactions: 284315.\n",
            "# fraudulent transactions: 492.\n",
            "# of observations: 284807.\n"
          ],
          "name": "stdout"
        }
      ]
    },
    {
      "cell_type": "code",
      "metadata": {
        "id": "2RFi0QhqxGMn"
      },
      "source": [
        "time = df.Time\n",
        "def make_one_day(x):\n",
        "  '''Make the two days into one day. Time is then\n",
        "  a measure of seconds passed on a given day.'''\n",
        "  if x > 86400:\n",
        "    x -= 86400\n",
        "  return x\n",
        "\n",
        "#remake time series\n",
        "time_remake = df.Time.apply(lambda x:make_one_day(x))"
      ],
      "execution_count": null,
      "outputs": []
    },
    {
      "cell_type": "code",
      "metadata": {
        "id": "BBhXtVzW73BQ",
        "outputId": "7e3769f8-01ab-4b67-9a20-9ebf02d05516",
        "colab": {
          "base_uri": "https://localhost:8080/",
          "height": 375
        }
      },
      "source": [
        "#plot distribution of label over time\n",
        "df_plot = pd.merge(df.label, time_remake, left_index=True, right_index=True)\n",
        "#label = 0 is blue\n",
        "label_0 = df_plot.loc[df_plot[\"label\"]==0]\n",
        "#label = 1 is orange\n",
        "label_1 = df_plot.loc[df_plot[\"label\"]==1]\n",
        "\n",
        "sns.kdeplot(label_0[\"Time\"], hue=df_plot[\"label\"])\n",
        "sns.kdeplot(label_1[\"Time\"], hue=df_plot[\"label\"])"
      ],
      "execution_count": null,
      "outputs": [
        {
          "output_type": "stream",
          "text": [
            "/usr/local/lib/python3.6/dist-packages/seaborn/distributions.py:305: UserWarning: Dataset has 0 variance; skipping density estimate.\n",
            "  warnings.warn(msg, UserWarning)\n",
            "/usr/local/lib/python3.6/dist-packages/seaborn/distributions.py:305: UserWarning: Dataset has 0 variance; skipping density estimate.\n",
            "  warnings.warn(msg, UserWarning)\n"
          ],
          "name": "stderr"
        },
        {
          "output_type": "execute_result",
          "data": {
            "text/plain": [
              "<matplotlib.axes._subplots.AxesSubplot at 0x7f19b0249e10>"
            ]
          },
          "metadata": {
            "tags": []
          },
          "execution_count": 6
        },
        {
          "output_type": "display_data",
          "data": {
            "image/png": "[encoded data removed]",
            "text/plain": [
              "<Figure size 432x288 with 1 Axes>"
            ]
          },
          "metadata": {
            "tags": [],
            "needs_background": "light"
          }
        }
      ]
    },
    {
      "cell_type": "code",
      "metadata": {
        "id": "2gloSSvTla1y"
      },
      "source": [
        "#all features\n",
        "X = df.iloc[:,1:-1]\n",
        "X = pd.merge(X, df_plot[\"Time\"], left_index=True, right_index=True)\n",
        "#labels\n",
        "y = df.iloc[:,-1]"
      ],
      "execution_count": null,
      "outputs": []
    },
    {
      "cell_type": "code",
      "metadata": {
        "id": "o33OpkpKla5p",
        "outputId": "e84fb036-7c2d-433e-a212-d67269a65809",
        "colab": {
          "base_uri": "https://localhost:8080/",
          "height": 265
        }
      },
      "source": [
        "#plot label 0,1 by V1 and V2 \n",
        "fig, ax = plt.subplots()\n",
        "scatter = ax.scatter(X.iloc[:,0], X.iloc[:,1], c=y, cmap=\"Spectral\")\n",
        "legend1 = ax.legend(*scatter.legend_elements(num=1),\n",
        "                    loc=\"upper left\", title=\"Fraud\")\n",
        "ax.add_artist(legend1)\n",
        "plt.show()"
      ],
      "execution_count": null,
      "outputs": [
        {
          "output_type": "display_data",
          "data": {
            "image/png": "[encoded data removed]",
            "text/plain": [
              "<Figure size 432x288 with 1 Axes>"
            ]
          },
          "metadata": {
            "tags": [],
            "needs_background": "light"
          }
        }
      ]
    },
    {
      "cell_type": "code",
      "metadata": {
        "id": "LOkFoUHzlxgi"
      },
      "source": [
        "#split data in train and test sets\n",
        "X_train, X_test, y_train , y_test = train_test_split(X, y, test_size = 0.1, random_state = 0, stratify = y)\n",
        "\n",
        "#scaling data for NN\n",
        "scaler = StandardScaler()\n",
        "X_train_NN = scaler.fit_transform(X_train)\n",
        "X_test_NN = scaler.fit_transform(X_test)"
      ],
      "execution_count": null,
      "outputs": []
    },
    {
      "cell_type": "code",
      "metadata": {
        "id": "drDQuAj5l6He",
        "outputId": "28c0e94a-2bd6-458f-d1c5-42b3b0e86c6f",
        "colab": {
          "base_uri": "https://localhost:8080/"
        }
      },
      "source": [
        "#Check if data was stratified\n",
        "print(round(sum(y_test)/len(y_test)*100,3))\n",
        "print(round(sum(y_train)/len(y_train)*100,3))"
      ],
      "execution_count": null,
      "outputs": [
        {
          "output_type": "stream",
          "text": [
            "0.172\n",
            "0.173\n"
          ],
          "name": "stdout"
        }
      ]
    },
    {
      "cell_type": "code",
      "metadata": {
        "id": "Jp4sV5pql7aB"
      },
      "source": [
        "#make data eligble for pytorch framework\n",
        "\n",
        "#train data\n",
        "class TrainData(Dataset):\n",
        "    def __init__(self, X_data, y_data):\n",
        "        self.X_data = X_data\n",
        "        self.y_data = y_data\n",
        "        \n",
        "    def __getitem__(self, index):\n",
        "        return self.X_data[index], self.y_data[index]\n",
        "        \n",
        "    def __len__ (self):\n",
        "        return len(self.X_data)\n",
        "\n",
        "\n",
        "train_data = TrainData(torch.FloatTensor(X_train_NN), \n",
        "                       torch.FloatTensor(y_train))\n",
        "\n",
        "## test data    \n",
        "class TestData(Dataset):\n",
        "    \n",
        "    def __init__(self, X_data):\n",
        "        self.X_data = X_data\n",
        "        \n",
        "    def __getitem__(self, index):\n",
        "        return self.X_data[index]\n",
        "        \n",
        "    def __len__ (self):\n",
        "        return len(self.X_data)\n",
        "    \n",
        "\n",
        "test_data = TestData(torch.FloatTensor(X_test_NN))"
      ],
      "execution_count": null,
      "outputs": []
    },
    {
      "cell_type": "code",
      "metadata": {
        "id": "jaXjm3wRmBPe"
      },
      "source": [
        "#create data iterators\n",
        "train_loader = DataLoader(dataset=train_data, batch_size=128, shuffle=True)\n",
        "test_loader = DataLoader(dataset=test_data, batch_size=1)"
      ],
      "execution_count": null,
      "outputs": []
    },
    {
      "cell_type": "markdown",
      "metadata": {
        "id": "vdPE79c0mEoW"
      },
      "source": [
        "#The neural network\n",
        "In the cell beneath you can see the lay-out of the neural network. It consists of 4 layers: 1 input layer, 2 hidden layers and an output layer. ReLU is applied to each layer except the output layer. Also batch norm is used to speed up the computation. Between layer 2 and layer 3 and layer 3 and the output layer drop out is used. This hinders the network from becomining to dependent on certain nodes in the network. \n",
        "\n",
        "<br>\n",
        "\n",
        "For more information on these topics, see:\n",
        "<ul>\n",
        "<li>https://en.wikipedia.org/wiki/Rectifier_(neural_networks)\n",
        "<li>https://en.wikipedia.org/wiki/Batch_normalization\n",
        "<li>https://machinelearningmastery.com/dropout-for-regularizing-deep-neural-networks/\n",
        "</ul>"
      ]
    },
    {
      "cell_type": "code",
      "metadata": {
        "id": "rMs5iMPBmD84"
      },
      "source": [
        "class binaryClassification(nn.Module):\n",
        "    def __init__(self):\n",
        "        super(binaryClassification, self).__init__()\n",
        "        # Number of input features is 30\n",
        "        # Nodes in first layer = 58\n",
        "        self.layer_1 = nn.Linear(30, 256) \n",
        "        self.layer_2 = nn.Linear(256, 512)\n",
        "        self.layer_3 = nn.Linear(512,64)\n",
        "        self.layer_out = nn.Linear(64, 1) \n",
        "        \n",
        "        #use ReLU as act. layer\n",
        "        self.relu = nn.ReLU()\n",
        "        #Use droput with keep_prob = 0.9\n",
        "        self.dropout = nn.Dropout(p=0.1)\n",
        "        #Use batch normalization\n",
        "        self.batchnorm1 = nn.BatchNorm1d(256)\n",
        "        self.batchnorm2 = nn.BatchNorm1d(512)\n",
        "        self.batchnorm3 = nn.BatchNorm1d(64)\n",
        "        \n",
        "    def forward(self, inputs):\n",
        "        #Input sent to linear layer then ReLu is applied\n",
        "        x = self.relu(self.layer_1(inputs))\n",
        "        #Normalising before input is passed on\n",
        "        #batch normalising will make ANN more efficient\n",
        "        x = self.batchnorm1(x)\n",
        "        #Input sent to linear layer then ReLu is applied\n",
        "        x = self.relu(self.layer_2(x))\n",
        "        #Normalising before input is passed on\n",
        "        x = self.dropout(x)\n",
        "        #Zeroes out random parts of input vector\n",
        "        x = self.batchnorm2(x)\n",
        "        #linear layer\n",
        "        x = self.relu(self.layer_3(x))\n",
        "        x = self.batchnorm3(x)\n",
        "        #drop out\n",
        "        x = self.dropout(x)\n",
        "        #Last layer\n",
        "        x = self.layer_out(x)\n",
        "        \n",
        "        return x"
      ],
      "execution_count": null,
      "outputs": []
    },
    {
      "cell_type": "code",
      "metadata": {
        "id": "GrQxkiJ-mKOc",
        "outputId": "e1c5e8b8-80c7-4e59-c05b-8cba53206ae0",
        "colab": {
          "base_uri": "https://localhost:8080/"
        }
      },
      "source": [
        "#use GPU if it's available\n",
        "device = torch.device(\"cuda:0\" if torch.cuda.is_available() else \"cpu\")\n",
        "print(device)"
      ],
      "execution_count": null,
      "outputs": [
        {
          "output_type": "stream",
          "text": [
            "cuda:0\n"
          ],
          "name": "stdout"
        }
      ]
    },
    {
      "cell_type": "code",
      "metadata": {
        "id": "f2KhupCemKtY",
        "outputId": "daaadea8-f4f5-42cb-b282-ef7354f00212",
        "colab": {
          "base_uri": "https://localhost:8080/"
        }
      },
      "source": [
        "#instantiate model, set loss function (criterion) and optimization model\n",
        "model = binaryClassification()\n",
        "model.to(device)\n",
        "print(model)\n",
        "criterion = nn.BCEWithLogitsLoss()\n",
        "optimizer = optim.Adam(model.parameters(), lr=0.0001)"
      ],
      "execution_count": null,
      "outputs": [
        {
          "output_type": "stream",
          "text": [
            "binaryClassification(\n",
            "  (layer_1): Linear(in_features=30, out_features=256, bias=True)\n",
            "  (layer_2): Linear(in_features=256, out_features=512, bias=True)\n",
            "  (layer_3): Linear(in_features=512, out_features=64, bias=True)\n",
            "  (layer_out): Linear(in_features=64, out_features=1, bias=True)\n",
            "  (relu): ReLU()\n",
            "  (dropout): Dropout(p=0.1, inplace=False)\n",
            "  (batchnorm1): BatchNorm1d(256, eps=1e-05, momentum=0.1, affine=True, track_running_stats=True)\n",
            "  (batchnorm2): BatchNorm1d(512, eps=1e-05, momentum=0.1, affine=True, track_running_stats=True)\n",
            "  (batchnorm3): BatchNorm1d(64, eps=1e-05, momentum=0.1, affine=True, track_running_stats=True)\n",
            ")\n"
          ],
          "name": "stdout"
        }
      ]
    },
    {
      "cell_type": "code",
      "metadata": {
        "id": "mAgCg33HmK5p"
      },
      "source": [
        "#function for calculating prediction accuracy\n",
        "def binary_acc(y_pred, y_test):\n",
        "    y_pred_tag = torch.round(torch.sigmoid(y_pred))\n",
        "\n",
        "    correct_results_sum = (y_pred_tag == y_test).sum().float()\n",
        "    acc = correct_results_sum/y_test.shape[0]\n",
        "    acc = torch.round(acc * 100)\n",
        "    \n",
        "    return acc"
      ],
      "execution_count": null,
      "outputs": []
    },
    {
      "cell_type": "markdown",
      "metadata": {
        "id": "G2yXky-ZTLTg"
      },
      "source": [
        "The model is trained over 7 epochs, meaning it the iterates the training data 7 times. For each batch, batch size is set to 128, the algorithm minimize the loss function. This is can be thought of as the distance between the output of the model and the true label of the class. The optimization algorithm used is ADAM and the loss is calculated using binary crossentropy with logit loss. "
      ]
    },
    {
      "cell_type": "code",
      "metadata": {
        "id": "J9jlEGulmLDK",
        "outputId": "142b5785-575c-4ab5-e8fd-5a31798edc90",
        "colab": {
          "base_uri": "https://localhost:8080/"
        }
      },
      "source": [
        "#Train model\n",
        "model.train()\n",
        "EPOCHS = 50\n",
        "for e in range(1, EPOCHS+1):\n",
        "    epoch_loss = 0\n",
        "    epoch_acc = 0\n",
        "    for X_batch, y_batch in train_loader:\n",
        "        #print(X_batch.size())\n",
        "        X_batch, y_batch = X_batch.to(device), y_batch.to(device)\n",
        "        optimizer.zero_grad()\n",
        "        \n",
        "        y_pred = model(X_batch)\n",
        "        \n",
        "        loss = criterion(y_pred, y_batch.unsqueeze(1))\n",
        "        acc = binary_acc(y_pred, y_batch.unsqueeze(1))\n",
        "        \n",
        "        loss.backward()\n",
        "        optimizer.step()\n",
        "        \n",
        "        epoch_loss += loss.item()\n",
        "        epoch_acc += acc.item()\n",
        "        \n",
        "\n",
        "    print(f'Epoch {e+0:03}: | Loss: {epoch_loss/len(train_loader):.5f} | Acc: {epoch_acc/len(train_loader):.3f}')"
      ],
      "execution_count": null,
      "outputs": [
        {
          "output_type": "stream",
          "text": [
            "Epoch 001: | Loss: 0.33044 | Acc: 93.925\n",
            "Epoch 002: | Loss: 0.03348 | Acc: 99.878\n",
            "Epoch 003: | Loss: 0.00866 | Acc: 99.907\n",
            "Epoch 004: | Loss: 0.00458 | Acc: 99.913\n",
            "Epoch 005: | Loss: 0.00321 | Acc: 99.923\n",
            "Epoch 006: | Loss: 0.00253 | Acc: 99.935\n",
            "Epoch 007: | Loss: 0.00257 | Acc: 99.933\n",
            "Epoch 008: | Loss: 0.00205 | Acc: 99.939\n",
            "Epoch 009: | Loss: 0.00197 | Acc: 99.944\n",
            "Epoch 010: | Loss: 0.00163 | Acc: 99.948\n",
            "Epoch 011: | Loss: 0.00156 | Acc: 99.948\n",
            "Epoch 012: | Loss: 0.00126 | Acc: 99.959\n",
            "Epoch 013: | Loss: 0.00122 | Acc: 99.954\n",
            "Epoch 014: | Loss: 0.00110 | Acc: 99.963\n",
            "Epoch 015: | Loss: 0.00116 | Acc: 99.962\n",
            "Epoch 016: | Loss: 0.00098 | Acc: 99.967\n",
            "Epoch 017: | Loss: 0.00104 | Acc: 99.963\n",
            "Epoch 018: | Loss: 0.00083 | Acc: 99.970\n",
            "Epoch 019: | Loss: 0.00081 | Acc: 99.970\n",
            "Epoch 020: | Loss: 0.00088 | Acc: 99.968\n",
            "Epoch 021: | Loss: 0.00072 | Acc: 99.969\n",
            "Epoch 022: | Loss: 0.00063 | Acc: 99.974\n",
            "Epoch 023: | Loss: 0.00061 | Acc: 99.979\n",
            "Epoch 024: | Loss: 0.00066 | Acc: 99.975\n",
            "Epoch 025: | Loss: 0.00064 | Acc: 99.974\n",
            "Epoch 026: | Loss: 0.00057 | Acc: 99.978\n",
            "Epoch 027: | Loss: 0.00059 | Acc: 99.975\n",
            "Epoch 028: | Loss: 0.00055 | Acc: 99.978\n",
            "Epoch 029: | Loss: 0.00046 | Acc: 99.979\n",
            "Epoch 030: | Loss: 0.00054 | Acc: 99.977\n",
            "Epoch 031: | Loss: 0.00053 | Acc: 99.978\n",
            "Epoch 032: | Loss: 0.00039 | Acc: 99.982\n",
            "Epoch 033: | Loss: 0.00045 | Acc: 99.983\n",
            "Epoch 034: | Loss: 0.00037 | Acc: 99.984\n",
            "Epoch 035: | Loss: 0.00038 | Acc: 99.988\n",
            "Epoch 036: | Loss: 0.00044 | Acc: 99.981\n",
            "Epoch 037: | Loss: 0.00047 | Acc: 99.984\n",
            "Epoch 038: | Loss: 0.00029 | Acc: 99.990\n",
            "Epoch 039: | Loss: 0.00034 | Acc: 99.986\n",
            "Epoch 040: | Loss: 0.00032 | Acc: 99.988\n",
            "Epoch 041: | Loss: 0.00035 | Acc: 99.986\n",
            "Epoch 042: | Loss: 0.00027 | Acc: 99.989\n",
            "Epoch 043: | Loss: 0.00031 | Acc: 99.987\n",
            "Epoch 044: | Loss: 0.00035 | Acc: 99.988\n",
            "Epoch 045: | Loss: 0.00036 | Acc: 99.988\n",
            "Epoch 046: | Loss: 0.00030 | Acc: 99.990\n",
            "Epoch 047: | Loss: 0.00030 | Acc: 99.989\n",
            "Epoch 048: | Loss: 0.00031 | Acc: 99.986\n",
            "Epoch 049: | Loss: 0.00029 | Acc: 99.987\n",
            "Epoch 050: | Loss: 0.00032 | Acc: 99.990\n"
          ],
          "name": "stdout"
        }
      ]
    },
    {
      "cell_type": "markdown",
      "metadata": {
        "id": "qWBTG3rnmg1o"
      },
      "source": [
        "#Testing and evaluating the neural network"
      ]
    },
    {
      "cell_type": "code",
      "metadata": {
        "id": "nn3MrpzImQGP"
      },
      "source": [
        "#Testing model\n",
        "y_pred_list = []\n",
        "y_test_score_list = []\n",
        "model.eval()\n",
        "with torch.no_grad():\n",
        "    for X_batch in test_loader:\n",
        "        X_batch = X_batch.to(device)\n",
        "        y_test_pred = model(X_batch)\n",
        "        y_test_pred = torch.sigmoid(y_test_pred)\n",
        "        y_test_score_list.append(y_test_pred.item())\n",
        "        y_pred_tag = torch.round(y_test_pred)\n",
        "        y_pred_list.append(y_pred_tag.cpu().numpy())\n",
        "\n",
        "y_pred_list = [a.squeeze().tolist() for a in y_pred_list]"
      ],
      "execution_count": null,
      "outputs": []
    },
    {
      "cell_type": "code",
      "metadata": {
        "id": "ClQ_bm8ymRjM",
        "outputId": "ab5853a0-c4d9-4b52-eb1d-52d3e8a853dc",
        "colab": {
          "base_uri": "https://localhost:8080/",
          "height": 295
        }
      },
      "source": [
        "#make confusion matrix\n",
        "cm1 = confusion_matrix(y_test, y_pred_list)\n",
        "ax = plt.subplot()\n",
        "sns.heatmap(cm1, annot=True, ax = ax, cmap=\"YlGnBu\")\n",
        "#sns.heatmap(cm1, annot=True, ax = ax, cmap=\"YlGnBu\", norm=colors.LogNorm(vmin=0, vmax=len(y_test))) #<- log scale not working\n",
        "# labels, title and ticks\n",
        "ax.set_xlabel('Predicted labels');ax.set_ylabel('True labels'); \n",
        "ax.set_title('Confusion Matrix for model'); \n",
        "#ax.xaxis.set_ticklabels(['Non-fraudulent', 'Fraudulent']); ax.yaxis.set_ticklabels(['Fraudulent', 'Non-fraudulent'])"
      ],
      "execution_count": null,
      "outputs": [
        {
          "output_type": "display_data",
          "data": {
            "image/png": "[encoded data removed]",
            "text/plain": [
              "<Figure size 432x288 with 2 Axes>"
            ]
          },
          "metadata": {
            "tags": [],
            "needs_background": "light"
          }
        }
      ]
    },
    {
      "cell_type": "code",
      "metadata": {
        "id": "QgcrK9ETmVTL"
      },
      "source": [
        "# Compute ROC curve and ROC area for each class\n",
        "fpr = dict()\n",
        "tpr = dict()\n",
        "roc_auc = dict()\n",
        "fpr, tpr, _ = roc_curve(y_test,y_test_score_list)\n",
        "roc_auc = auc(fpr, tpr)"
      ],
      "execution_count": null,
      "outputs": []
    },
    {
      "cell_type": "code",
      "metadata": {
        "id": "8PukBeMVmV-y",
        "outputId": "ca7115c3-b826-474a-d8d4-76ca46527a0d",
        "colab": {
          "base_uri": "https://localhost:8080/",
          "height": 295
        }
      },
      "source": [
        "plt.figure()\n",
        "lw = 2\n",
        "plt.plot(fpr, tpr, color='darkorange',\n",
        "         lw=lw, label='ROC curve (area = %0.2f)' % roc_auc)\n",
        "plt.plot([0, 1], [0, 1], color='navy', lw=lw, linestyle='--')\n",
        "plt.xlim([0.0, 1.0])\n",
        "plt.ylim([0.0, 1.05])\n",
        "plt.xlabel('False Positive Rate')\n",
        "plt.ylabel('True Positive Rate')\n",
        "plt.title('Receiver operating characteristic example')\n",
        "plt.legend(loc=\"lower right\")\n",
        "plt.show()"
      ],
      "execution_count": null,
      "outputs": [
        {
          "output_type": "display_data",
          "data": {
            "image/png": "[encoded data removed]",
            "text/plain": [
              "<Figure size 432x288 with 1 Axes>"
            ]
          },
          "metadata": {
            "tags": [],
            "needs_background": "light"
          }
        }
      ]
    },
    {
      "cell_type": "code",
      "metadata": {
        "id": "MFguytNumZof",
        "outputId": "606e7a92-1d39-487b-a1bc-43669cdcc02e",
        "colab": {
          "base_uri": "https://localhost:8080/"
        }
      },
      "source": [
        "print(classification_report(y_test, y_pred_list))"
      ],
      "execution_count": null,
      "outputs": [
        {
          "output_type": "stream",
          "text": [
            "              precision    recall  f1-score   support\n",
            "\n",
            "           0       1.00      1.00      1.00     28432\n",
            "           1       0.88      0.76      0.81        49\n",
            "\n",
            "    accuracy                           1.00     28481\n",
            "   macro avg       0.94      0.88      0.91     28481\n",
            "weighted avg       1.00      1.00      1.00     28481\n",
            "\n"
          ],
          "name": "stdout"
        }
      ]
    },
    {
      "cell_type": "markdown",
      "metadata": {
        "id": "E2y-deyqmvdu"
      },
      "source": [
        "#The XGBoost model"
      ]
    },
    {
      "cell_type": "markdown",
      "metadata": {
        "id": "KUqMigUtm1bd"
      },
      "source": [
        "#Grid search\n",
        "I'm using randomized grid search. Randomized grid search is a grid search that only tries n different combinations. In this notebook I set n = 20, this means that 20 different models are trained with random combinations of the hyperparameters. \n",
        "<br>\n",
        "The idea is to find a startingpoint for hyperparameter tuning, and then build on from this. As you can see, the hyperparameters are quite spaced out. The hyperparameter codomain is quite stretched. After the first grid search the codomain is shrunk with a mean equal to the best hyperparameter. This is also why the first grid search is called coarse, second is called finer and last one is called finest. \n",
        "<br>\n",
        "In the future I would like to look into different types of hyperparameter optimization, like bayesian hyperparamter optimization, particle swarm, etc. "
      ]
    },
    {
      "cell_type": "code",
      "metadata": {
        "id": "Mqt90NJzmyeb"
      },
      "source": [
        "#coarse parameter grid\n",
        "counter_y = Counter(y_train)\n",
        "params_coarse ={\"learning_rate\" : [0.01,0.015,0.02], #size of steps taken at each iteration\n",
        "                'min_child_weight': [1, 5, 10], #stops splitting nodes when sample is small or certain degree of purity is reached\n",
        "                'gamma': [0.5, 1, 1.5, 2, 5], #across tree regularization, most important when you have shallow trees\n",
        "                'subsample': [0.6, 0.8, 1.0], #percantage of sample (size of sub-samples) used to train each tree\n",
        "                'colsample_bytree': [0.6, 0.8, 1.0], #how many features can be used to train each tree\n",
        "                'max_depth': [2, 3, 5], #how deep can the tree be\n",
        "                'scale_pos_weight' : [np.sqrt(counter_y[0]/counter_y[1]),(counter_y[0]/counter_y[1]),1], #ratio between classes; if 90 is neg class, 10 is pos class --> scale_pos_Weight = 9\n",
        "                'n_estimators' : [100,300,500]\n",
        "}\n",
        "#https://xgboost.readthedocs.io/en/latest/parameter.html"
      ],
      "execution_count": null,
      "outputs": []
    },
    {
      "cell_type": "code",
      "metadata": {
        "id": "capA1nDwm6ve"
      },
      "source": [
        "#this are arguments used in the fit of xgboost\n",
        "fit_params = {\n",
        "        \"early_stopping_rounds\" : 10, #if model has not improved in 10 last rounds it stops\n",
        "        \"eval_metric\" : \"auc\", #area under curve; curve being the ROC\n",
        "        \"eval_set\": [(X_test,y_test)]\n",
        "    }"
      ],
      "execution_count": null,
      "outputs": []
    },
    {
      "cell_type": "code",
      "metadata": {
        "id": "N0B7cIDpm7T9"
      },
      "source": [
        "#instantiate a xgboost model\n",
        "xgb1 = XGBClassifier(objective='binary:logistic',\n",
        "                    silent=True, nthread=1)"
      ],
      "execution_count": null,
      "outputs": []
    },
    {
      "cell_type": "markdown",
      "metadata": {
        "id": "nN4cU0tVQmzW"
      },
      "source": [
        "#K-folds\n",
        "I'm using stratified k-fold cross validation  in the training of the model. This means the training set is split in k # of folds and a model is trained on k-1 of them, and the last one is used for testing. This is done k times. This is not computational efficient, but it is efficient in use of data. \n",
        "<br>\n",
        "<br>\n",
        "<img src=\"https://scikit-learn.org/stable/_images/grid_search_cross_validation.png\" alt=\"Picture of ROC\" width=\"400\" height=\"300\">\n",
        "<br>\n",
        "<br>\n"
      ]
    },
    {
      "cell_type": "code",
      "metadata": {
        "id": "-zy_Cv8bm8lh",
        "outputId": "d5be0137-1219-4f1a-ce42-640c18cd69bb",
        "colab": {
          "base_uri": "https://localhost:8080/"
        }
      },
      "source": [
        "folds = 4 #using 4 folds, slow processing time on my computer\n",
        "param_comb = 20 #will only do 20 iterations due to processing time\n",
        "\n",
        "skf = StratifiedKFold(n_splits=folds, shuffle = True, random_state = 0)\n",
        "\n",
        "#random search checks random combinations of paramters given in parameter grid, with n_iter = 20 it will try 20 random combinations\n",
        "random_search = RandomizedSearchCV(xgb1, param_distributions=params_coarse, n_iter=param_comb, scoring='roc_auc', n_jobs=-1, cv=skf.split(X_train,y_train), verbose=3, random_state=0 )\n",
        "\n",
        "random_search.fit(X_train, y_train, **fit_params)"
      ],
      "execution_count": null,
      "outputs": [
        {
          "output_type": "stream",
          "text": [
            "Fitting 4 folds for each of 20 candidates, totalling 80 fits\n"
          ],
          "name": "stdout"
        },
        {
          "output_type": "stream",
          "text": [
            "[Parallel(n_jobs=-1)]: Using backend LokyBackend with 2 concurrent workers.\n",
            "[Parallel(n_jobs=-1)]: Done  28 tasks      | elapsed:  4.0min\n",
            "[Parallel(n_jobs=-1)]: Done  80 out of  80 | elapsed:  9.2min finished\n"
          ],
          "name": "stderr"
        },
        {
          "output_type": "stream",
          "text": [
            "[0]\tvalidation_0-auc:0.921555\n",
            "Will train until validation_0-auc hasn't improved in 10 rounds.\n",
            "[1]\tvalidation_0-auc:0.925731\n",
            "[2]\tvalidation_0-auc:0.925364\n",
            "[3]\tvalidation_0-auc:0.939799\n",
            "[4]\tvalidation_0-auc:0.940967\n",
            "[5]\tvalidation_0-auc:0.940099\n",
            "[6]\tvalidation_0-auc:0.939167\n",
            "[7]\tvalidation_0-auc:0.933836\n",
            "[8]\tvalidation_0-auc:0.929106\n",
            "[9]\tvalidation_0-auc:0.930142\n",
            "[10]\tvalidation_0-auc:0.928651\n",
            "[11]\tvalidation_0-auc:0.928157\n",
            "[12]\tvalidation_0-auc:0.92729\n",
            "[13]\tvalidation_0-auc:0.943333\n",
            "[14]\tvalidation_0-auc:0.941598\n",
            "[15]\tvalidation_0-auc:0.950998\n",
            "[16]\tvalidation_0-auc:0.951876\n",
            "[17]\tvalidation_0-auc:0.957732\n",
            "[18]\tvalidation_0-auc:0.956501\n",
            "[19]\tvalidation_0-auc:0.95585\n",
            "[20]\tvalidation_0-auc:0.956096\n",
            "[21]\tvalidation_0-auc:0.953899\n",
            "[22]\tvalidation_0-auc:0.953407\n",
            "[23]\tvalidation_0-auc:0.955585\n",
            "[24]\tvalidation_0-auc:0.963423\n",
            "[25]\tvalidation_0-auc:0.964093\n",
            "[26]\tvalidation_0-auc:0.963823\n",
            "[27]\tvalidation_0-auc:0.963381\n",
            "[28]\tvalidation_0-auc:0.963467\n",
            "[29]\tvalidation_0-auc:0.966049\n",
            "[30]\tvalidation_0-auc:0.967353\n",
            "[31]\tvalidation_0-auc:0.966963\n",
            "[32]\tvalidation_0-auc:0.966523\n",
            "[33]\tvalidation_0-auc:0.966079\n",
            "[34]\tvalidation_0-auc:0.965569\n",
            "[35]\tvalidation_0-auc:0.96722\n",
            "[36]\tvalidation_0-auc:0.967952\n",
            "[37]\tvalidation_0-auc:0.967758\n",
            "[38]\tvalidation_0-auc:0.96717\n",
            "[39]\tvalidation_0-auc:0.966831\n",
            "[40]\tvalidation_0-auc:0.966314\n",
            "[41]\tvalidation_0-auc:0.965709\n",
            "[42]\tvalidation_0-auc:0.96551\n",
            "[43]\tvalidation_0-auc:0.965155\n",
            "[44]\tvalidation_0-auc:0.96749\n",
            "[45]\tvalidation_0-auc:0.968068\n",
            "[46]\tvalidation_0-auc:0.967661\n",
            "[47]\tvalidation_0-auc:0.96782\n",
            "[48]\tvalidation_0-auc:0.967312\n",
            "[49]\tvalidation_0-auc:0.96717\n",
            "[50]\tvalidation_0-auc:0.966924\n",
            "[51]\tvalidation_0-auc:0.966456\n",
            "[52]\tvalidation_0-auc:0.966288\n",
            "[53]\tvalidation_0-auc:0.965712\n",
            "[54]\tvalidation_0-auc:0.96788\n",
            "[55]\tvalidation_0-auc:0.967707\n",
            "Stopping. Best iteration:\n",
            "[45]\tvalidation_0-auc:0.968068\n",
            "\n"
          ],
          "name": "stdout"
        },
        {
          "output_type": "execute_result",
          "data": {
            "text/plain": [
              "RandomizedSearchCV(cv=<generator object _BaseKFold.split at 0x7fcc999f6fc0>,\n",
              "                   error_score=nan,\n",
              "                   estimator=XGBClassifier(base_score=0.5, booster='gbtree',\n",
              "                                           colsample_bylevel=1,\n",
              "                                           colsample_bynode=1,\n",
              "                                           colsample_bytree=1, gamma=0,\n",
              "                                           learning_rate=0.1, max_delta_step=0,\n",
              "                                           max_depth=3, min_child_weight=1,\n",
              "                                           missing=None, n_estimators=100,\n",
              "                                           n_jobs=1, nthread=1,\n",
              "                                           objective='binary:logisti...\n",
              "                   param_distributions={'colsample_bytree': [0.6, 0.8, 1.0],\n",
              "                                        'gamma': [0.5, 1, 1.5, 2, 5],\n",
              "                                        'learning_rate': [0.01, 0.015, 0.02],\n",
              "                                        'max_depth': [2, 3, 5],\n",
              "                                        'min_child_weight': [1, 5, 10],\n",
              "                                        'n_estimators': [100, 300, 500],\n",
              "                                        'scale_pos_weight': [24.03360138400667,\n",
              "                                                             577.6139954853273,\n",
              "                                                             1],\n",
              "                                        'subsample': [0.6, 0.8, 1.0]},\n",
              "                   pre_dispatch='2*n_jobs', random_state=0, refit=True,\n",
              "                   return_train_score=False, scoring='roc_auc', verbose=3)"
            ]
          },
          "metadata": {
            "tags": []
          },
          "execution_count": 33
        }
      ]
    },
    {
      "cell_type": "code",
      "metadata": {
        "id": "9E0fCaVXnAuQ",
        "outputId": "770112bb-a727-4ea6-c306-6f0c96ac013d",
        "colab": {
          "base_uri": "https://localhost:8080/"
        }
      },
      "source": [
        "print('\\n Best hyperparameters:')\n",
        "print(random_search.best_params_)"
      ],
      "execution_count": null,
      "outputs": [
        {
          "output_type": "stream",
          "text": [
            "\n",
            " Best hyperparameters:\n",
            "{'subsample': 0.6, 'scale_pos_weight': 577.6139954853273, 'n_estimators': 500, 'min_child_weight': 1, 'max_depth': 5, 'learning_rate': 0.01, 'gamma': 5, 'colsample_bytree': 0.8}\n"
          ],
          "name": "stdout"
        }
      ]
    },
    {
      "cell_type": "code",
      "metadata": {
        "id": "8f8l_eEEnCL8"
      },
      "source": [
        "#a finer paramter grid\n",
        "params_finer ={\"learning_rate\" : [0.09,0.01,0.011], #size of steps taken at each iteration\n",
        "              'min_child_weight': [1], #stops splitting nodes when sample is small or certain degree of purity is reached\n",
        "              'gamma': [ 5, 7, 10], #across tree regularization, most important when you have shallow trees\n",
        "              'subsample': [0.3,0.45, 0.6], #percantage of sample (size of sub-samples) used to train each tree\n",
        "              'colsample_bytree': [0.7, 0.8, 0.9], #how many features can be used to train each tree\n",
        "              'max_depth': [4, 5, 6], #how deep can the tree be\n",
        "              'scale_pos_weight' : [np.sqrt(counter_y[0]/counter_y[1]),np.sqrt(counter_y[0]/counter_y[1])/2], #ratio between classes; if 90 is neg class, 10 is pos class --> scale_pos_Weight = 9\n",
        "               'n_estimators' : [500,600,700]\n",
        "}"
      ],
      "execution_count": null,
      "outputs": []
    },
    {
      "cell_type": "code",
      "metadata": {
        "id": "l2imUB14nCp9"
      },
      "source": [
        "fit_params = {\n",
        "        \"early_stopping_rounds\" : 10,\n",
        "        \"eval_metric\" : \"auc\",\n",
        "        \"eval_set\": [(X_test,y_test)]\n",
        "    }"
      ],
      "execution_count": null,
      "outputs": []
    },
    {
      "cell_type": "code",
      "metadata": {
        "id": "P3bYElUKnD3y",
        "outputId": "04c21a24-b790-458a-8f79-dd45ad764261",
        "colab": {
          "base_uri": "https://localhost:8080/"
        }
      },
      "source": [
        "random_search2 = RandomizedSearchCV(xgb1, param_distributions=params_finer, n_iter=param_comb, scoring='roc_auc', n_jobs=-1, cv=skf.split(X_train,y_train), verbose=3, random_state=0 )\n",
        "\n",
        "random_search2.fit(X_train, y_train, **fit_params)"
      ],
      "execution_count": null,
      "outputs": [
        {
          "output_type": "stream",
          "text": [
            "Fitting 4 folds for each of 20 candidates, totalling 80 fits\n"
          ],
          "name": "stdout"
        },
        {
          "output_type": "stream",
          "text": [
            "[Parallel(n_jobs=-1)]: Using backend LokyBackend with 2 concurrent workers.\n",
            "[Parallel(n_jobs=-1)]: Done  28 tasks      | elapsed:  4.4min\n",
            "[Parallel(n_jobs=-1)]: Done  80 out of  80 | elapsed: 11.6min finished\n"
          ],
          "name": "stderr"
        },
        {
          "output_type": "stream",
          "text": [
            "[0]\tvalidation_0-auc:0.931474\n",
            "Will train until validation_0-auc hasn't improved in 10 rounds.\n",
            "[1]\tvalidation_0-auc:0.931408\n",
            "[2]\tvalidation_0-auc:0.931224\n",
            "[3]\tvalidation_0-auc:0.930958\n",
            "[4]\tvalidation_0-auc:0.937735\n",
            "[5]\tvalidation_0-auc:0.935863\n",
            "[6]\tvalidation_0-auc:0.935385\n",
            "[7]\tvalidation_0-auc:0.934646\n",
            "[8]\tvalidation_0-auc:0.934586\n",
            "[9]\tvalidation_0-auc:0.934117\n",
            "[10]\tvalidation_0-auc:0.934116\n",
            "[11]\tvalidation_0-auc:0.934362\n",
            "[12]\tvalidation_0-auc:0.935123\n",
            "[13]\tvalidation_0-auc:0.934828\n",
            "[14]\tvalidation_0-auc:0.934407\n",
            "Stopping. Best iteration:\n",
            "[4]\tvalidation_0-auc:0.937735\n",
            "\n"
          ],
          "name": "stdout"
        },
        {
          "output_type": "execute_result",
          "data": {
            "text/plain": [
              "RandomizedSearchCV(cv=<generator object _BaseKFold.split at 0x7fcc9988ffc0>,\n",
              "                   error_score=nan,\n",
              "                   estimator=XGBClassifier(base_score=0.5, booster='gbtree',\n",
              "                                           colsample_bylevel=1,\n",
              "                                           colsample_bynode=1,\n",
              "                                           colsample_bytree=1, gamma=0,\n",
              "                                           learning_rate=0.1, max_delta_step=0,\n",
              "                                           max_depth=3, min_child_weight=1,\n",
              "                                           missing=None, n_estimators=100,\n",
              "                                           n_jobs=1, nthread=1,\n",
              "                                           objective='binary:logisti...\n",
              "                   param_distributions={'colsample_bytree': [0.7, 0.8, 0.9],\n",
              "                                        'gamma': [5, 7, 10],\n",
              "                                        'learning_rate': [0.09, 0.01, 0.011],\n",
              "                                        'max_depth': [4, 5, 6],\n",
              "                                        'min_child_weight': [1],\n",
              "                                        'n_estimators': [500, 600, 700],\n",
              "                                        'scale_pos_weight': [24.03360138400667,\n",
              "                                                             12.016800692003335],\n",
              "                                        'subsample': [0.3, 0.45, 0.6]},\n",
              "                   pre_dispatch='2*n_jobs', random_state=0, refit=True,\n",
              "                   return_train_score=False, scoring='roc_auc', verbose=3)"
            ]
          },
          "metadata": {
            "tags": []
          },
          "execution_count": 37
        }
      ]
    },
    {
      "cell_type": "code",
      "metadata": {
        "id": "RxWtOU67nFaA",
        "outputId": "68cac427-7e9f-4043-f19f-1c5c20da0ca0",
        "colab": {
          "base_uri": "https://localhost:8080/"
        }
      },
      "source": [
        "print('\\n Best hyperparameters:')\n",
        "print(random_search2.best_params_)"
      ],
      "execution_count": null,
      "outputs": [
        {
          "output_type": "stream",
          "text": [
            "\n",
            " Best hyperparameters:\n",
            "{'subsample': 0.45, 'scale_pos_weight': 24.03360138400667, 'n_estimators': 600, 'min_child_weight': 1, 'max_depth': 4, 'learning_rate': 0.09, 'gamma': 5, 'colsample_bytree': 0.9}\n"
          ],
          "name": "stdout"
        }
      ]
    },
    {
      "cell_type": "code",
      "metadata": {
        "id": "B6APkTD9nG4g"
      },
      "source": [
        "finest_params = {\"learning_rate\" : [0.08,0.09], #size of steps taken at each iteration\n",
        "              'min_child_weight': [1], #stops splitting nodes when sample is small or certain degree of purity is reached\n",
        "              'gamma': [ 5], #across tree regularization, most important when you have shallow trees\n",
        "              'subsample': [0.4,0.45, 0.5], #percantage of sample (size of sub-samples) used to train each tree\n",
        "              'colsample_bytree': [0.6,0.7], #how many features can be used to train each tree\n",
        "              'max_depth': [5], #how deep can the tree be\n",
        "              'scale_pos_weight' : [np.sqrt(counter_y[0]/counter_y[1]),30], #ratio between classes; if 90 is neg class, 10 is pos class --> scale_pos_Weight = 9\n",
        "               'n_estimators' : [700,800,900]\n",
        "}"
      ],
      "execution_count": null,
      "outputs": []
    },
    {
      "cell_type": "code",
      "metadata": {
        "id": "Fuex4gSpnItC",
        "outputId": "9ef0f838-5b98-47da-bc0a-791c0fcd42f3",
        "colab": {
          "base_uri": "https://localhost:8080/"
        }
      },
      "source": [
        "random_search3 = RandomizedSearchCV(xgb1, param_distributions=params_finer, n_iter=param_comb, scoring='roc_auc', n_jobs=-1, cv=skf.split(X_train,y_train), verbose=3, random_state=0 )\n",
        "\n",
        "random_search3.fit(X_train, y_train, **fit_params)"
      ],
      "execution_count": null,
      "outputs": [
        {
          "output_type": "stream",
          "text": [
            "Fitting 4 folds for each of 20 candidates, totalling 80 fits\n"
          ],
          "name": "stdout"
        },
        {
          "output_type": "stream",
          "text": [
            "[Parallel(n_jobs=-1)]: Using backend LokyBackend with 2 concurrent workers.\n",
            "[Parallel(n_jobs=-1)]: Done  28 tasks      | elapsed:  4.4min\n",
            "[Parallel(n_jobs=-1)]: Done  80 out of  80 | elapsed: 11.6min finished\n"
          ],
          "name": "stderr"
        },
        {
          "output_type": "stream",
          "text": [
            "[0]\tvalidation_0-auc:0.931474\n",
            "Will train until validation_0-auc hasn't improved in 10 rounds.\n",
            "[1]\tvalidation_0-auc:0.931408\n",
            "[2]\tvalidation_0-auc:0.931224\n",
            "[3]\tvalidation_0-auc:0.930958\n",
            "[4]\tvalidation_0-auc:0.937735\n",
            "[5]\tvalidation_0-auc:0.935863\n",
            "[6]\tvalidation_0-auc:0.935385\n",
            "[7]\tvalidation_0-auc:0.934646\n",
            "[8]\tvalidation_0-auc:0.934586\n",
            "[9]\tvalidation_0-auc:0.934117\n",
            "[10]\tvalidation_0-auc:0.934116\n",
            "[11]\tvalidation_0-auc:0.934362\n",
            "[12]\tvalidation_0-auc:0.935123\n",
            "[13]\tvalidation_0-auc:0.934828\n",
            "[14]\tvalidation_0-auc:0.934407\n",
            "Stopping. Best iteration:\n",
            "[4]\tvalidation_0-auc:0.937735\n",
            "\n"
          ],
          "name": "stdout"
        },
        {
          "output_type": "execute_result",
          "data": {
            "text/plain": [
              "RandomizedSearchCV(cv=<generator object _BaseKFold.split at 0x7fcc999f6e60>,\n",
              "                   error_score=nan,\n",
              "                   estimator=XGBClassifier(base_score=0.5, booster='gbtree',\n",
              "                                           colsample_bylevel=1,\n",
              "                                           colsample_bynode=1,\n",
              "                                           colsample_bytree=1, gamma=0,\n",
              "                                           learning_rate=0.1, max_delta_step=0,\n",
              "                                           max_depth=3, min_child_weight=1,\n",
              "                                           missing=None, n_estimators=100,\n",
              "                                           n_jobs=1, nthread=1,\n",
              "                                           objective='binary:logisti...\n",
              "                   param_distributions={'colsample_bytree': [0.7, 0.8, 0.9],\n",
              "                                        'gamma': [5, 7, 10],\n",
              "                                        'learning_rate': [0.09, 0.01, 0.011],\n",
              "                                        'max_depth': [4, 5, 6],\n",
              "                                        'min_child_weight': [1],\n",
              "                                        'n_estimators': [500, 600, 700],\n",
              "                                        'scale_pos_weight': [24.03360138400667,\n",
              "                                                             12.016800692003335],\n",
              "                                        'subsample': [0.3, 0.45, 0.6]},\n",
              "                   pre_dispatch='2*n_jobs', random_state=0, refit=True,\n",
              "                   return_train_score=False, scoring='roc_auc', verbose=3)"
            ]
          },
          "metadata": {
            "tags": []
          },
          "execution_count": 40
        }
      ]
    },
    {
      "cell_type": "code",
      "metadata": {
        "id": "wVWUTXmPnJHu",
        "outputId": "85bde03a-c5db-41a7-9c88-9d2b9cb9b4f5",
        "colab": {
          "base_uri": "https://localhost:8080/"
        }
      },
      "source": [
        "print('\\n Best hyperparameters:')\n",
        "print(random_search3.best_params_)\n",
        "print(random_search2.best_params_)"
      ],
      "execution_count": null,
      "outputs": [
        {
          "output_type": "stream",
          "text": [
            "\n",
            " Best hyperparameters:\n",
            "{'subsample': 0.45, 'scale_pos_weight': 24.03360138400667, 'n_estimators': 600, 'min_child_weight': 1, 'max_depth': 4, 'learning_rate': 0.09, 'gamma': 5, 'colsample_bytree': 0.9}\n",
            "{'subsample': 0.45, 'scale_pos_weight': 24.03360138400667, 'n_estimators': 600, 'min_child_weight': 1, 'max_depth': 4, 'learning_rate': 0.09, 'gamma': 5, 'colsample_bytree': 0.9}\n"
          ],
          "name": "stdout"
        }
      ]
    },
    {
      "cell_type": "code",
      "metadata": {
        "id": "SCp94iMXnKUQ"
      },
      "source": [
        "XGB_non_smote = random_search.best_estimator_"
      ],
      "execution_count": null,
      "outputs": []
    },
    {
      "cell_type": "code",
      "metadata": {
        "id": "Cxkf425TnMQO",
        "outputId": "59757d1a-2861-4195-e4e1-b65825255d0f",
        "colab": {
          "base_uri": "https://localhost:8080/"
        }
      },
      "source": [
        "XGB_non_smote.score(X_test, y_test)"
      ],
      "execution_count": null,
      "outputs": [
        {
          "output_type": "execute_result",
          "data": {
            "text/plain": [
              "0.9957515536673572"
            ]
          },
          "metadata": {
            "tags": []
          },
          "execution_count": 48
        }
      ]
    },
    {
      "cell_type": "code",
      "metadata": {
        "id": "RE8tMwXcnN6i"
      },
      "source": [
        "y_scores_xgb = XGB_non_smote.predict_proba(X_test)[:,1]"
      ],
      "execution_count": null,
      "outputs": []
    },
    {
      "cell_type": "code",
      "metadata": {
        "id": "1UcWhCT_nQqx"
      },
      "source": [
        "# Compute ROC curve and ROC area for each class\n",
        "fpr_xgb = dict()\n",
        "tpr_xgb = dict()\n",
        "roc_auc_xgb = dict()\n",
        "fpr_xgb, tpr_xgb, _ = roc_curve(y_test,y_scores_xgb)\n",
        "roc_auc_xgb = auc(fpr_xgb, tpr_xgb)"
      ],
      "execution_count": null,
      "outputs": []
    },
    {
      "cell_type": "code",
      "metadata": {
        "id": "ugzSjhmInSwy",
        "outputId": "88ada6bb-cb75-4af8-e694-e3b8a70d9078",
        "colab": {
          "base_uri": "https://localhost:8080/",
          "height": 295
        }
      },
      "source": [
        "plt.figure()\n",
        "lw = 2\n",
        "plt.plot(fpr_xgb, tpr_xgb, color='darkorange',\n",
        "         lw=lw, label='ROC curve (area = %0.2f) for XGBoost' % roc_auc_xgb)\n",
        "plt.plot([0, 1], [0, 1], color='navy', lw=lw, linestyle='--')\n",
        "plt.xlim([0.0, 1.0])\n",
        "plt.ylim([0.0, 1.05])\n",
        "plt.xlabel('False Positive Rate')\n",
        "plt.ylabel('True Positive Rate')\n",
        "plt.title('Receiver operating characteristic example')\n",
        "plt.legend(loc=\"lower right\")\n",
        "plt.show()"
      ],
      "execution_count": null,
      "outputs": [
        {
          "output_type": "display_data",
          "data": {
            "image/png": "[encoded data removed]",
            "text/plain": [
              "<Figure size 432x288 with 1 Axes>"
            ]
          },
          "metadata": {
            "tags": [],
            "needs_background": "light"
          }
        }
      ]
    },
    {
      "cell_type": "markdown",
      "metadata": {
        "id": "sZxJH149nVhE"
      },
      "source": [
        "#Conclusion\n",
        "- Need more than two weeks, this is especially true for neural network\n",
        "- Hard to get the neural network to overfit\n",
        "- Have tried SMOTE and oversampling, but should also try undersampling\n",
        "- XGBoost is alot simpler to train and optimize\n",
        "- Should learn more about optimization of neural networks\n",
        "- Want to learn better optimization techniques (other than randomized grid search or vanilla grid search) "
      ]
    }
  ]
}